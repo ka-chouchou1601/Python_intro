{
 "cells": [
  {
   "cell_type": "markdown",
   "id": "6ca0fa54",
   "metadata": {},
   "source": [
    "# 1. Variables"
   ]
  },
  {
   "cell_type": "code",
   "execution_count": 3,
   "id": "1ddb08d2",
   "metadata": {},
   "outputs": [
    {
     "name": "stdout",
     "output_type": "stream",
     "text": [
      "22 Mint Chocolate\n"
     ]
    }
   ],
   "source": [
    "#Declaring variables\n",
    "x=22\n",
    "y=\"Mint Chocolate\"\n",
    "print(x,y)\n"
   ]
  },
  {
   "cell_type": "code",
   "execution_count": 5,
   "id": "d70938a2",
   "metadata": {},
   "outputs": [
    {
     "name": "stdout",
     "output_type": "stream",
     "text": [
      "vanilla\n"
     ]
    }
   ],
   "source": [
    "# if we now decide to assigny another value it will take that value and let go of the one it had before \n",
    "y=\"Mint Chocolate\"\n",
    "y=\"vanilla\"\n",
    "print(y)"
   ]
  },
  {
   "cell_type": "code",
   "execution_count": 6,
   "id": "bdb10b33",
   "metadata": {},
   "outputs": [
    {
     "name": "stdout",
     "output_type": "stream",
     "text": [
      "Snella Chouella Minor\n"
     ]
    }
   ],
   "source": [
    "#Assigning multiple variables to multiple values\n",
    "x,y,z= \"Snella\", 'Chouella', 'Minor'\n",
    "print(x,y,z)"
   ]
  },
  {
   "cell_type": "code",
   "execution_count": 8,
   "id": "95a34d29",
   "metadata": {},
   "outputs": [
    {
     "name": "stdout",
     "output_type": "stream",
     "text": [
      "Snella Chouella Minor\n",
      "Snella Chouella Minor\n",
      "Snella Chouella Minor\n"
     ]
    }
   ],
   "source": [
    "#Assigning multiple variables the same value \n",
    "x=y=z='Snella Chouella Minor'\n",
    "print(x)\n",
    "print(y)\n",
    "print(z)"
   ]
  },
  {
   "cell_type": "code",
   "execution_count": 9,
   "id": "2022d627",
   "metadata": {},
   "outputs": [
    {
     "name": "stdout",
     "output_type": "stream",
     "text": [
      "['Snella', 'Chouella', 'Minor']\n"
     ]
    }
   ],
   "source": [
    "# our first list\n",
    "siblings_name=['Snella', 'Chouella', 'Minor']\n",
    "print(siblings_name)"
   ]
  },
  {
   "cell_type": "code",
   "execution_count": 12,
   "id": "b1f85964",
   "metadata": {},
   "outputs": [
    {
     "name": "stdout",
     "output_type": "stream",
     "text": [
      "My Name is Chouella\n",
      "8\n",
      "Hi there I am  25 this year\n"
     ]
    }
   ],
   "source": [
    "# we can add a string to a string when declaring an variable but never a string to an integer  \n",
    "x='My Name is ' + 'Chouella'\n",
    "print(x)\n",
    "#We can do the same to an Integer\n",
    "y= 4+4\n",
    "print (y)\n",
    "# we are also able to combine a string and an integer by a comma \n",
    "x='Hi there I am '\n",
    "y= 25\n",
    "z=\"this year\"\n",
    "print(x,y,z)"
   ]
  },
  {
   "cell_type": "markdown",
   "id": "a80bd166",
   "metadata": {},
   "source": [
    "# 2. Data Types in Python\n"
   ]
  },
  {
   "cell_type": "code",
   "execution_count": 15,
   "id": "83213f85",
   "metadata": {},
   "outputs": [
    {
     "data": {
      "text/plain": [
       "int"
      ]
     },
     "execution_count": 15,
     "metadata": {},
     "output_type": "execute_result"
    }
   ],
   "source": [
    "# Numeric(Integers,float,complex numbers)\n",
    "# An Integer is a Whole number including negatif and positif numbers \n",
    "type(12-12+0)\n",
    "\n"
   ]
  },
  {
   "cell_type": "code",
   "execution_count": 14,
   "id": "22e7e5d5",
   "metadata": {},
   "outputs": [
    {
     "data": {
      "text/plain": [
       "float"
      ]
     },
     "execution_count": 14,
     "metadata": {},
     "output_type": "execute_result"
    }
   ],
   "source": [
    "# float\n",
    "type(-12.0)"
   ]
  },
  {
   "cell_type": "code",
   "execution_count": 16,
   "id": "6e9d20e5",
   "metadata": {},
   "outputs": [
    {
     "data": {
      "text/plain": [
       "complex"
      ]
     },
     "execution_count": 16,
     "metadata": {},
     "output_type": "execute_result"
    }
   ],
   "source": [
    "#Complex\n",
    "type(-12j)\n",
    "#j is the only one that will work used as imaginary number if you use another one like c it will give you an error .\n"
   ]
  },
  {
   "cell_type": "code",
   "execution_count": 19,
   "id": "ab98adbd",
   "metadata": {},
   "outputs": [
    {
     "data": {
      "text/plain": [
       "bool"
      ]
     },
     "execution_count": 19,
     "metadata": {},
     "output_type": "execute_result"
    }
   ],
   "source": [
    "#Boolean True or False and the T for True has to be capital letter \n",
    "type(True)\n",
    "type(1>5) # it will return bool because it is telling us whether 1>5 or not  "
   ]
  },
  {
   "cell_type": "code",
   "execution_count": 21,
   "id": "4f0c10a6",
   "metadata": {},
   "outputs": [
    {
     "name": "stdout",
     "output_type": "stream",
     "text": [
      "\n",
      "My God is an Awesome God he reigns forever\n",
      "\n",
      "\n"
     ]
    }
   ],
   "source": [
    "# Sequence type (String ,tuples,lists)\n",
    "#Strings\n",
    "'Single Quote'\n",
    "\"Double quote\"\n",
    "x=\"\"\"\n",
    "My God is an Awesome God he reigns forever\n",
    "\n",
    "\"\"\"\n",
    "print(x)\n"
   ]
  },
  {
   "cell_type": "code",
   "execution_count": 22,
   "id": "161fa35a",
   "metadata": {},
   "outputs": [
    {
     "data": {
      "text/plain": [
       "str"
      ]
     },
     "execution_count": 22,
     "metadata": {},
     "output_type": "execute_result"
    }
   ],
   "source": [
    "type(x) #it will tell you that it is a  string "
   ]
  },
  {
   "cell_type": "code",
   "execution_count": 31,
   "id": "f1ff4228",
   "metadata": {},
   "outputs": [
    {
     "name": "stdout",
     "output_type": "stream",
     "text": [
      "ouel\n",
      "l\n",
      "chouel\n"
     ]
    },
    {
     "data": {
      "text/plain": [
       "'chouella is the prettiestchouella is the prettiest'"
      ]
     },
     "execution_count": 31,
     "metadata": {},
     "output_type": "execute_result"
    }
   ],
   "source": [
    "# Strings can be indexed  you can search through it \n",
    "x= 'chouella is the prettiest'\n",
    "print(x[2:6])\n",
    "print(x[5:6])\n",
    "print(x[:6])\n",
    "#x*3\n",
    "#x+x"
   ]
  },
  {
   "cell_type": "code",
   "execution_count": 40,
   "id": "21a1420a",
   "metadata": {},
   "outputs": [
    {
     "name": "stdout",
     "output_type": "stream",
     "text": [
      "[['snella', 28, 'snella', 29, 'chouella', 25], True]\n"
     ]
    }
   ],
   "source": [
    "#lists are amazing bcz they store multiple values represented by[]\n",
    "#A lists is also Indexed\n",
    "# A lists doesn't have to contain only one data typ it can containe bothe integers and strings\n",
    "[1,2,3]\n",
    "['snella','Chouella','Minor']\n",
    "['snella',29]\n",
    "['chouella',25]\n",
    "['Minor',22]\n",
    "Siblings_age=[['snella',28,'snella',29,'chouella',25], True ] \n",
    "print(Siblings_age)\n",
    "# this is also a NestedList\n",
    "# we have combined multiple data type in the list"
   ]
  },
  {
   "cell_type": "code",
   "execution_count": 38,
   "id": "3148adb7",
   "metadata": {},
   "outputs": [
    {
     "name": "stdout",
     "output_type": "stream",
     "text": [
      "['snella', 'Chouella', 'Minor', 'Audry']\n"
     ]
    }
   ],
   "source": [
    "siblings_name=['snella','Chouella','Minor']\n",
    "siblings_name.append ('Audry')\n",
    "print(siblings_name)"
   ]
  },
  {
   "cell_type": "code",
   "execution_count": 39,
   "id": "55cccd90",
   "metadata": {},
   "outputs": [
    {
     "name": "stdout",
     "output_type": "stream",
     "text": [
      "['snella', ' Chouella Remesha', 'Minor', 'Audry']\n"
     ]
    }
   ],
   "source": [
    "# we can change the value inside the list\n",
    "\n",
    "siblings_name[1]=' Chouella Remesha'\n",
    "print(siblings_name)\n"
   ]
  },
  {
   "cell_type": "code",
   "execution_count": 44,
   "id": "f834cce3",
   "metadata": {},
   "outputs": [
    {
     "name": "stdout",
     "output_type": "stream",
     "text": [
      "['snella', 28, 'snella', 29, 'chouella', 25]\n"
     ]
    }
   ],
   "source": [
    "#Nested list the first index is 0 and is a list inside a list \n",
    "#When we call index 0 of the list the whole first list will appear \n",
    "siblings_age=[['snella',28,'snella',29,'chouella',25], True ]\n",
    "print(siblings_age[0])\n",
    "\n"
   ]
  },
  {
   "cell_type": "code",
   "execution_count": 45,
   "id": "c3f7abfa",
   "metadata": {},
   "outputs": [
    {
     "name": "stdout",
     "output_type": "stream",
     "text": [
      "28\n"
     ]
    }
   ],
   "source": [
    "#calling a list inside a list \n",
    "print(siblings_age[0][1])"
   ]
  },
  {
   "cell_type": "code",
   "execution_count": 47,
   "id": "c2445e00",
   "metadata": {},
   "outputs": [
    {
     "data": {
      "text/plain": [
       "('snella', 'chouella', 'minor')"
      ]
     },
     "execution_count": 47,
     "metadata": {},
     "output_type": "execute_result"
    }
   ],
   "source": [
    "#tuples represented by () \n",
    "# Difference between a list and a tuple is that a tuple is immutable meaning \n",
    "#it cannot be modified or changed after it is created\n",
    "tuple_siblings=('snella','chouella','minor')\n",
    "tuple_siblings\n",
    "\n"
   ]
  },
  {
   "cell_type": "code",
   "execution_count": 49,
   "id": "30c4cfac",
   "metadata": {},
   "outputs": [
    {
     "data": {
      "text/plain": [
       "(1, 2, 3)"
      ]
     },
     "execution_count": 49,
     "metadata": {},
     "output_type": "execute_result"
    }
   ],
   "source": [
    "tuple_number=(1,2,3)\n",
    "tuple_number"
   ]
  },
  {
   "cell_type": "code",
   "execution_count": 50,
   "id": "b6acaef6",
   "metadata": {},
   "outputs": [
    {
     "data": {
      "text/plain": [
       "'minor'"
      ]
     },
     "execution_count": 50,
     "metadata": {},
     "output_type": "execute_result"
    }
   ],
   "source": [
    "#tuples can also be indexed but can not be changed \n",
    "# people like to use tuples when the value is never going to change like a city, a country \n",
    "tuple_siblings[2]"
   ]
  },
  {
   "cell_type": "code",
   "execution_count": null,
   "id": "eee82025",
   "metadata": {},
   "outputs": [],
   "source": [
    "# sets they use {}\n",
    "#sets are like lists but the difference is that they don't have any duplicate\n",
    "# the values inside the sets cannot be accessed using index bcz it is actually unodered \n",
    "# we can still loop through using a for loop but can't access it through indexing\n",
    "set_number={1,2,4}\n"
   ]
  },
  {
   "cell_type": "code",
   "execution_count": 51,
   "id": "df882466",
   "metadata": {},
   "outputs": [
    {
     "data": {
      "text/plain": [
       "{1, 2, 4, 5, 6, 31, 87}"
      ]
     },
     "execution_count": 51,
     "metadata": {},
     "output_type": "execute_result"
    }
   ],
   "source": [
    "set_number_log={1,2,4,31,4,5,6,2,1,87}\n",
    "set_number_log\n",
    "# it's going to give you the numbers ordered and not repeated "
   ]
  },
  {
   "cell_type": "code",
   "execution_count": 1,
   "id": "153b1e9e",
   "metadata": {},
   "outputs": [
    {
     "name": "stdout",
     "output_type": "stream",
     "text": [
      "{5, 7, 10, 12.15, 12, 13, 15, 16, 18}\n"
     ]
    }
   ],
   "source": [
    "#it will combine the two sets unique values c'est pour eviter de repeter des chiffres\n",
    "# And it orders it \n",
    "ma_moyenne={12,13,16,18,15,12.15}\n",
    "myriam_moyenne = {12,10,7,15,10,16,5}\n",
    "print(ma_moyenne | myriam_moyenne )"
   ]
  },
  {
   "cell_type": "code",
   "execution_count": 53,
   "id": "14203264",
   "metadata": {},
   "outputs": [
    {
     "name": "stdout",
     "output_type": "stream",
     "text": [
      "{16, 10, 12}\n"
     ]
    }
   ],
   "source": [
    "print(ma_moyenne & myriam_moyenne )\n",
    "# iyi iguha values in a and values in b meaning what you share "
   ]
  },
  {
   "cell_type": "code",
   "execution_count": 58,
   "id": "d8393ace",
   "metadata": {},
   "outputs": [
    {
     "name": "stdout",
     "output_type": "stream",
     "text": [
      "{18, 12.15, 13}\n"
     ]
    }
   ],
   "source": [
    "ma_moyenne={12,13,16,18,15,12.15}\n",
    "myriam_moyenne = {12,10,7,15,10,16,5}\n",
    "print(ma_moyenne - myriam_moyenne )# this will show us what doesn't match "
   ]
  },
  {
   "cell_type": "code",
   "execution_count": 59,
   "id": "f0f94f66",
   "metadata": {},
   "outputs": [
    {
     "name": "stdout",
     "output_type": "stream",
     "text": [
      "{5, 7, 10, 12.15, 13, 18}\n"
     ]
    }
   ],
   "source": [
    "ma_moyenne={12,13,16,18,15,12.15}\n",
    "myriam_moyenne = {12,10,7,15,10,16,5}\n",
    "print(ma_moyenne ^ myriam_moyenne )\n",
    "# this will show if a value is in one or the other not in both\n",
    "# so these values are unique only to each of those sets "
   ]
  },
  {
   "cell_type": "code",
   "execution_count": 63,
   "id": "938fbaf4",
   "metadata": {},
   "outputs": [
    {
     "data": {
      "text/plain": [
       "{'name': 'snella', 'age': 29, 'children': ['shaka', 'Gatoni']}"
      ]
     },
     "execution_count": 63,
     "metadata": {},
     "output_type": "execute_result"
    }
   ],
   "source": [
    "#dictionaries \n",
    "#also uses {}\n",
    "#Key/value Pair is what a dictionary has to identify what dos that value represent \n",
    "dict_siblings={'name' :'snella', 'age' : 29, 'children':['shaka', 'Gatoni']}\n",
    "# in this example name and age are key value Pair  \n",
    "dict_siblings\n"
   ]
  },
  {
   "cell_type": "code",
   "execution_count": 65,
   "id": "03b6c6c5",
   "metadata": {},
   "outputs": [
    {
     "data": {
      "text/plain": [
       "dict_values(['snella', 29, ['shaka', 'Gatoni']])"
      ]
     },
     "execution_count": 65,
     "metadata": {},
     "output_type": "execute_result"
    }
   ],
   "source": [
    "dict_siblings.values()#this will simply give you the values of the dictionary not including the keys "
   ]
  },
  {
   "cell_type": "code",
   "execution_count": 66,
   "id": "a44103ba",
   "metadata": {},
   "outputs": [
    {
     "data": {
      "text/plain": [
       "dict_keys(['name', 'age', 'children'])"
      ]
     },
     "execution_count": 66,
     "metadata": {},
     "output_type": "execute_result"
    }
   ],
   "source": [
    "dict_siblings.keys()#this will give you all the keys "
   ]
  },
  {
   "cell_type": "code",
   "execution_count": 67,
   "id": "aaeee6ad",
   "metadata": {},
   "outputs": [
    {
     "data": {
      "text/plain": [
       "dict_items([('name', 'snella'), ('age', 29), ('children', ['shaka', 'Gatoni'])])"
      ]
     },
     "execution_count": 67,
     "metadata": {},
     "output_type": "execute_result"
    }
   ],
   "source": [
    "dict_siblings.items()# this will give you the values and keys in the dictionary paired "
   ]
  },
  {
   "cell_type": "code",
   "execution_count": 68,
   "id": "f6628750",
   "metadata": {},
   "outputs": [
    {
     "data": {
      "text/plain": [
       "'snella'"
      ]
     },
     "execution_count": 68,
     "metadata": {},
     "output_type": "execute_result"
    }
   ],
   "source": [
    "#you can't call a dictionary with index you have to call it with keys\n",
    "# that is one of the difference btn a dict and a list \n",
    "dict_siblings['name']\n"
   ]
  },
  {
   "cell_type": "code",
   "execution_count": 69,
   "id": "14c34932",
   "metadata": {},
   "outputs": [
    {
     "name": "stdout",
     "output_type": "stream",
     "text": [
      "{'name': 'Remesha Chouella', 'age': 29, 'children': ['shaka', 'Gatoni']}\n"
     ]
    }
   ],
   "source": [
    "dict_siblings['name']= 'Remesha Chouella'\n",
    "print(dict_siblings)"
   ]
  },
  {
   "cell_type": "code",
   "execution_count": 70,
   "id": "6f7c15de",
   "metadata": {},
   "outputs": [
    {
     "name": "stdout",
     "output_type": "stream",
     "text": [
      "Remesha Chouella\n"
     ]
    }
   ],
   "source": [
    "print(dict_siblings['name'])"
   ]
  },
  {
   "cell_type": "code",
   "execution_count": 73,
   "id": "8dc0fdb7",
   "metadata": {},
   "outputs": [
    {
     "name": "stdout",
     "output_type": "stream",
     "text": [
      "{'name': 'snella', 'age': 29, 'children': ['shaka', 'Gatoni'], 'weight': 89}\n"
     ]
    }
   ],
   "source": [
    "# to update\n",
    "dict_siblings.update({'name' :'snella', 'age' : 29, 'children':['shaka', 'Gatoni'],'weight': 89})\n",
    "print(dict_siblings)"
   ]
  },
  {
   "cell_type": "code",
   "execution_count": 74,
   "id": "bbb024cf",
   "metadata": {},
   "outputs": [
    {
     "name": "stdout",
     "output_type": "stream",
     "text": [
      "{'name': 'snella', 'age': 29, 'children': ['shaka', 'Gatoni']}\n"
     ]
    }
   ],
   "source": [
    "#to delete\n",
    "del dict_siblings['weight']\n",
    "print( dict_siblings)"
   ]
  },
  {
   "cell_type": "markdown",
   "id": "ee6f38cc",
   "metadata": {},
   "source": [
    "# 3.Comparison, Logical and Membership"
   ]
  },
  {
   "cell_type": "code",
   "execution_count": 75,
   "id": "f35cbe9c",
   "metadata": {},
   "outputs": [
    {
     "data": {
      "text/plain": [
       "True"
      ]
     },
     "execution_count": 75,
     "metadata": {},
     "output_type": "execute_result"
    }
   ],
   "source": [
    " 10 == 10"
   ]
  },
  {
   "cell_type": "code",
   "execution_count": 76,
   "id": "dda7792f",
   "metadata": {},
   "outputs": [
    {
     "data": {
      "text/plain": [
       "True"
      ]
     },
     "execution_count": 76,
     "metadata": {},
     "output_type": "execute_result"
    }
   ],
   "source": [
    "x=\"Vanilla\"\n",
    "y=\"chocolat\"\n",
    "x != y"
   ]
  },
  {
   "cell_type": "code",
   "execution_count": 77,
   "id": "e4bbe2f3",
   "metadata": {},
   "outputs": [
    {
     "data": {
      "text/plain": [
       "False"
      ]
     },
     "execution_count": 77,
     "metadata": {},
     "output_type": "execute_result"
    }
   ],
   "source": [
    "#logical (and,or,not, null)\n",
    "(10>50) and (10<50)# both has to be true\n"
   ]
  },
  {
   "cell_type": "code",
   "execution_count": 78,
   "id": "ec26a645",
   "metadata": {},
   "outputs": [
    {
     "data": {
      "text/plain": [
       "False"
      ]
     },
     "execution_count": 78,
     "metadata": {},
     "output_type": "execute_result"
    }
   ],
   "source": [
    "(10<50) or ('vanilla'> 'chocolat')# at least one has to be true\n"
   ]
  },
  {
   "cell_type": "code",
   "execution_count": 79,
   "id": "8e695cc4",
   "metadata": {},
   "outputs": [
    {
     "data": {
      "text/plain": [
       "False"
      ]
     },
     "execution_count": 79,
     "metadata": {},
     "output_type": "execute_result"
    }
   ],
   "source": [
    "not(50>10)"
   ]
  },
  {
   "cell_type": "code",
   "execution_count": 81,
   "id": "7f51dc76",
   "metadata": {},
   "outputs": [
    {
     "data": {
      "text/plain": [
       "True"
      ]
     },
     "execution_count": 81,
     "metadata": {},
     "output_type": "execute_result"
    }
   ],
   "source": [
    "# membership Operators(in,not in)\n",
    "# we can also check for list \n",
    "ice_cream=\"I love ice cream\"\n",
    "\n",
    "'love' in ice_cream # basically checks if love is included in ice_cream\n"
   ]
  },
  {
   "cell_type": "code",
   "execution_count": 82,
   "id": "cb85e11e",
   "metadata": {},
   "outputs": [
    {
     "data": {
      "text/plain": [
       "False"
      ]
     },
     "execution_count": 82,
     "metadata": {},
     "output_type": "execute_result"
    }
   ],
   "source": [
    "'ice ' not in ice_cream"
   ]
  },
  {
   "cell_type": "code",
   "execution_count": 84,
   "id": "ae9a8582",
   "metadata": {},
   "outputs": [
    {
     "data": {
      "text/plain": [
       "True"
      ]
     },
     "execution_count": 84,
     "metadata": {},
     "output_type": "execute_result"
    }
   ],
   "source": [
    "scoops=[1,2,3,4,5]\n",
    "wanted_scoops=7\n",
    "wanted_scoops not in scoops"
   ]
  },
  {
   "cell_type": "markdown",
   "id": "a38d4652",
   "metadata": {},
   "source": [
    "# 4. If-elif-Else Statement "
   ]
  },
  {
   "cell_type": "code",
   "execution_count": 95,
   "id": "938fdfaa",
   "metadata": {},
   "outputs": [
    {
     "name": "stdout",
     "output_type": "stream",
     "text": [
      "time to sleep\n",
      "past time\n"
     ]
    }
   ],
   "source": [
    "time='22:00';\n",
    "if(time< '22:00'):\n",
    "    print (\"it isnot yet time to sleep\")\n",
    "elif (time == '22:00') or (time<='21:59'):\n",
    "    print('time to sleep')\n",
    "elif(time =='23:00'):\n",
    "        print('So what time is it')\n",
    "if  (time>='22:00'):# nested if can't use elif in nested if\n",
    "    print('past time')\n",
    "else :\n",
    "        print(\"it's about that time\")"
   ]
  },
  {
   "cell_type": "markdown",
   "id": "89d1fca4",
   "metadata": {},
   "source": [
    "# 5.For Loop\n"
   ]
  },
  {
   "cell_type": "code",
   "execution_count": 3,
   "id": "0507043f",
   "metadata": {},
   "outputs": [
    {
     "name": "stdout",
     "output_type": "stream",
     "text": [
      "Jesus is the king \n",
      "Jesus is the king \n",
      "Jesus is the king \n",
      "Jesus is the king \n",
      "Jesus is the king \n",
      "Jesus is the king \n"
     ]
    }
   ],
   "source": [
    "# A for loop is used to iterate over a sequence it can be a list, a tuple \n",
    "#An array ,a string or even a dictionary \n",
    "integer=[1,2,3,4,5,6]\n",
    "for x in integer:\n",
    "    print('Jesus is the king ')\n",
    "\n"
   ]
  },
  {
   "cell_type": "code",
   "execution_count": 4,
   "id": "d170bfb1",
   "metadata": {},
   "outputs": [
    {
     "name": "stdout",
     "output_type": "stream",
     "text": [
      "1\n",
      "2\n",
      "3\n",
      "4\n",
      "5\n",
      "6\n"
     ]
    }
   ],
   "source": [
    "integer=[1,2,3,4,5,6]\n",
    "for x in integer:\n",
    "    print(x)"
   ]
  },
  {
   "cell_type": "code",
   "execution_count": 5,
   "id": "9c5ea794",
   "metadata": {},
   "outputs": [
    {
     "name": "stdout",
     "output_type": "stream",
     "text": [
      "snella\n",
      "29\n",
      "['Gatoni', 'shaka']\n"
     ]
    }
   ],
   "source": [
    "# this is when we want to loop through only values if we wanted keys we would use keys\n",
    "\n",
    "dict_siblings={'name':'snella','age': 29, 'children' :['Gatoni','shaka']}\n",
    "for i in dict_siblings.values():\n",
    "    print(i)\n",
    "    \n"
   ]
  },
  {
   "cell_type": "code",
   "execution_count": 8,
   "id": "9c8aed30",
   "metadata": {},
   "outputs": [
    {
     "name": "stdout",
     "output_type": "stream",
     "text": [
      "name -> snella\n",
      "age -> 29\n",
      "children -> ['Gatoni', 'shaka']\n"
     ]
    }
   ],
   "source": [
    "#here we wanted to loop through both keys and values that is why we use items \n",
    "dict_siblings={'name':'snella','age': 29, 'children' :['Gatoni','shaka']}\n",
    "for key ,values in dict_siblings.items():\n",
    "    print(key,'->',values)"
   ]
  },
  {
   "cell_type": "markdown",
   "id": "7d800411",
   "metadata": {},
   "source": [
    "# 5.1 Nested For Loop"
   ]
  },
  {
   "cell_type": "code",
   "execution_count": 9,
   "id": "be630053",
   "metadata": {},
   "outputs": [
    {
     "name": "stdout",
     "output_type": "stream",
     "text": [
      "vanilla topped with hotFudge\n",
      "vanilla topped with oreos\n",
      "vanilla topped with Marshmallows\n",
      "chocolate topped with hotFudge\n",
      "chocolate topped with oreos\n",
      "chocolate topped with Marshmallows\n",
      "strawberry topped with hotFudge\n",
      "strawberry topped with oreos\n",
      "strawberry topped with Marshmallows\n"
     ]
    }
   ],
   "source": [
    "# a loop inside a loop\n",
    "flavors=['vanilla', 'chocolate','strawberry']\n",
    "toppings=['hotFudge', 'oreos', 'Marshmallows']\n",
    "for i in flavors:\n",
    "    for y in toppings:\n",
    "        print(i, 'topped with', y)"
   ]
  },
  {
   "cell_type": "markdown",
   "id": "42b38a79",
   "metadata": {},
   "source": [
    "# 6.While loop in python"
   ]
  },
  {
   "cell_type": "code",
   "execution_count": 12,
   "id": "2f7310b8",
   "metadata": {},
   "outputs": [
    {
     "name": "stdout",
     "output_type": "stream",
     "text": [
      "0\n",
      "1\n",
      "2\n",
      "3\n",
      "4\n",
      "5\n"
     ]
    }
   ],
   "source": [
    "# the difference btn a for loop and a while loop is that a for loop is going to loop through the sequence regardless of a conditon \n",
    "#but a while loop will loop  through a sequence as long as a sequence is met once the condition is not  met  the code will stop and will not iterate through the rest\n",
    "# while loop is like a counter \n",
    "number=0\n",
    "while number <= 5:\n",
    "    print(number)\n",
    "    number=number+1\n",
    "    \n",
    "\n"
   ]
  },
  {
   "cell_type": "markdown",
   "id": "f1b4a421",
   "metadata": {},
   "source": [
    "# 6.1 A Break Statement "
   ]
  },
  {
   "cell_type": "code",
   "execution_count": 13,
   "id": "371261d9",
   "metadata": {},
   "outputs": [
    {
     "name": "stdout",
     "output_type": "stream",
     "text": [
      "0\n",
      "1\n",
      "2\n",
      "3\n"
     ]
    }
   ],
   "source": [
    "# with the break statement we can stop the loop even if the condition is true \n",
    "number=0\n",
    "while number <= 5:\n",
    "    print(number)\n",
    "    if number == 3:\n",
    "        break\n",
    "    number=number+1"
   ]
  },
  {
   "cell_type": "code",
   "execution_count": 14,
   "id": "bdba1305",
   "metadata": {},
   "outputs": [
    {
     "name": "stdout",
     "output_type": "stream",
     "text": [
      "0\n",
      "1\n",
      "2\n",
      "3\n",
      "4\n",
      "5\n",
      "No longer < = 6 \n"
     ]
    }
   ],
   "source": [
    "# we can use an else statement which will work if the condition is not longer true \n",
    "number=0\n",
    "while number <= 5:\n",
    "    print(number)\n",
    "    if number == 6:\n",
    "        break\n",
    "    number=number+1\n",
    "else:\n",
    "    print(\"No longer < = 6 \")\n",
    "        \n",
    "    "
   ]
  },
  {
   "cell_type": "code",
   "execution_count": 35,
   "id": "7d7f1b7e",
   "metadata": {},
   "outputs": [
    {
     "name": "stdout",
     "output_type": "stream",
     "text": [
      "1\n",
      "2\n",
      "4\n",
      "5\n",
      "No longer < = 5 \n"
     ]
    }
   ],
   "source": [
    "# Now let's look at the continue  \n",
    "number=0\n",
    "while number < 5:\n",
    "    number=number+1\n",
    "    if number == 3:# this is read if and only if the number is ==3\n",
    "        continue \n",
    "    print(number)\n",
    "else: # iyi iyisome if and only if  the code is no longer true \n",
    "        print(\"No longer < = 5 \")\n",
    "        # A revoir "
   ]
  },
  {
   "cell_type": "markdown",
   "id": "5cc09ead",
   "metadata": {},
   "source": [
    "# 7.Functions"
   ]
  },
  {
   "cell_type": "code",
   "execution_count": 36,
   "id": "deca3881",
   "metadata": {},
   "outputs": [],
   "source": [
    "def first_fun():# defining our function\n",
    "    print (\"We did it \")#body of the function"
   ]
  },
  {
   "cell_type": "code",
   "execution_count": 37,
   "id": "5076434d",
   "metadata": {},
   "outputs": [
    {
     "name": "stdout",
     "output_type": "stream",
     "text": [
      "We did it \n"
     ]
    }
   ],
   "source": [
    "first_fun()# calling the function\n",
    "# to see the function rinning you have to call the function"
   ]
  },
  {
   "cell_type": "code",
   "execution_count": 38,
   "id": "ddb1887e",
   "metadata": {},
   "outputs": [],
   "source": [
    "# passing an argument into a function\n",
    "def number_squared(number):\n",
    "    print(number**2) # this will take the number to the power of 2\n"
   ]
  },
  {
   "cell_type": "code",
   "execution_count": 39,
   "id": "44582da4",
   "metadata": {},
   "outputs": [
    {
     "name": "stdout",
     "output_type": "stream",
     "text": [
      "16\n"
     ]
    }
   ],
   "source": [
    "number_squared(4)"
   ]
  },
  {
   "cell_type": "code",
   "execution_count": 41,
   "id": "58f6d644",
   "metadata": {},
   "outputs": [],
   "source": [
    "# to specify the power \n",
    "def number_squared_cust(number, power):# we have two arg \n",
    "    print(number**power)\n",
    "    "
   ]
  },
  {
   "cell_type": "code",
   "execution_count": 43,
   "id": "d769499b",
   "metadata": {},
   "outputs": [
    {
     "name": "stdout",
     "output_type": "stream",
     "text": [
      "125\n"
     ]
    }
   ],
   "source": [
    "number_squared_cust(5,3) # it means 4 to the power of 3\n",
    "# we have to pass two argument"
   ]
  },
  {
   "cell_type": "code",
   "execution_count": 44,
   "id": "9b3c9f6f",
   "metadata": {},
   "outputs": [],
   "source": [
    "# arbitrary arguments\n",
    "def number_args(*number):# *args,number is arbitrary argument when you don't want know  how many argument you will pass you it could be 5 or 1000\n",
    "    print(number[0]*number[1])\n",
    "    "
   ]
  },
  {
   "cell_type": "code",
   "execution_count": 45,
   "id": "db04fdba",
   "metadata": {},
   "outputs": [
    {
     "name": "stdout",
     "output_type": "stream",
     "text": [
      "30\n"
     ]
    }
   ],
   "source": [
    "number_args(5,6,7,8,9)"
   ]
  },
  {
   "cell_type": "code",
   "execution_count": 47,
   "id": "36e74c2b",
   "metadata": {},
   "outputs": [],
   "source": [
    "#another way is we can declare the args before in a variable \n",
    "tuple_args=(5,6,7,8,9)\n",
    "def number_args(*number):# *args,number is arbitrary argument when you don't want know  how many argument you will pass you it could be 5 or 1000\n",
    "    print(number[0]*number[1])\n",
    "    "
   ]
  },
  {
   "cell_type": "code",
   "execution_count": 48,
   "id": "4c810531",
   "metadata": {},
   "outputs": [
    {
     "name": "stdout",
     "output_type": "stream",
     "text": [
      "30\n"
     ]
    }
   ],
   "source": [
    "number_args(*tuple_args)# you have to specify a * before for it to work"
   ]
  },
  {
   "cell_type": "code",
   "execution_count": 49,
   "id": "0dee5f59",
   "metadata": {},
   "outputs": [],
   "source": [
    "#Keyword Argument this is used to just specify when calling the function specify what they are to have more power over them \n",
    "def number_squared_cust(number, power):# we have two arg \n",
    "    print(number**power)\n"
   ]
  },
  {
   "cell_type": "code",
   "execution_count": 50,
   "id": "c0558355",
   "metadata": {},
   "outputs": [
    {
     "name": "stdout",
     "output_type": "stream",
     "text": [
      "216\n"
     ]
    }
   ],
   "source": [
    "number_squared_cust(power=3, number=6) # this is how keyword argument is used "
   ]
  },
  {
   "cell_type": "code",
   "execution_count": 57,
   "id": "82e97823",
   "metadata": {},
   "outputs": [],
   "source": [
    "#arbitrary key word args you have to use two **\n",
    "def number_kwarg(**number):\n",
    "    print('My number is ' + number['integer'] +'and ' + 'My other number is '+number['integer2'])\n",
    "    "
   ]
  },
  {
   "cell_type": "code",
   "execution_count": 58,
   "id": "7f364e76",
   "metadata": {},
   "outputs": [
    {
     "name": "stdout",
     "output_type": "stream",
     "text": [
      "My number is 345and My other number is 234\n"
     ]
    }
   ],
   "source": [
    "number_kwarg(integer= '345' , integer2= '234')"
   ]
  },
  {
   "cell_type": "markdown",
   "id": "130565d4",
   "metadata": {},
   "source": [
    "# 9.Converting data types in python\n"
   ]
  },
  {
   "cell_type": "code",
   "execution_count": 59,
   "id": "848dfc70",
   "metadata": {},
   "outputs": [
    {
     "data": {
      "text/plain": [
       "str"
      ]
     },
     "execution_count": 59,
     "metadata": {},
     "output_type": "execute_result"
    }
   ],
   "source": [
    "x='7'\n",
    "type(x)"
   ]
  },
  {
   "cell_type": "code",
   "execution_count": 60,
   "id": "400f6fce",
   "metadata": {},
   "outputs": [],
   "source": [
    "# to convert to int\n",
    "num_conv= int(x)\n"
   ]
  },
  {
   "cell_type": "code",
   "execution_count": 62,
   "id": "916f580f",
   "metadata": {},
   "outputs": [
    {
     "data": {
      "text/plain": [
       "int"
      ]
     },
     "execution_count": 62,
     "metadata": {},
     "output_type": "execute_result"
    }
   ],
   "source": [
    "type(num_conv)"
   ]
  },
  {
   "cell_type": "code",
   "execution_count": 63,
   "id": "6eb1db35",
   "metadata": {},
   "outputs": [
    {
     "data": {
      "text/plain": [
       "tuple"
      ]
     },
     "execution_count": 63,
     "metadata": {},
     "output_type": "execute_result"
    }
   ],
   "source": [
    "#converting a list to a tuple\n",
    "list_mine=[1,2,3,4]\n",
    "type(tuple(list_mine))"
   ]
  },
  {
   "cell_type": "code",
   "execution_count": 64,
   "id": "9d07a3b3",
   "metadata": {},
   "outputs": [],
   "source": [
    "dict_siblings={'name' :'snella', 'age' : 29, 'children':['shaka', 'Gatoni']}"
   ]
  },
  {
   "cell_type": "code",
   "execution_count": 66,
   "id": "70c7e599",
   "metadata": {},
   "outputs": [
    {
     "data": {
      "text/plain": [
       "list"
      ]
     },
     "execution_count": 66,
     "metadata": {},
     "output_type": "execute_result"
    }
   ],
   "source": [
    "# converting dict.keys to list\n",
    "type(list(dict_siblings.keys()))"
   ]
  },
  {
   "cell_type": "code",
   "execution_count": null,
   "id": "a06206b8",
   "metadata": {},
   "outputs": [],
   "source": []
  }
 ],
 "metadata": {
  "kernelspec": {
   "display_name": "Python 3 (ipykernel)",
   "language": "python",
   "name": "python3"
  },
  "language_info": {
   "codemirror_mode": {
    "name": "ipython",
    "version": 3
   },
   "file_extension": ".py",
   "mimetype": "text/x-python",
   "name": "python",
   "nbconvert_exporter": "python",
   "pygments_lexer": "ipython3",
   "version": "3.11.5"
  }
 },
 "nbformat": 4,
 "nbformat_minor": 5
}
