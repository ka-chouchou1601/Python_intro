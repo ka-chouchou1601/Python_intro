{
 "cells": [
  {
   "cell_type": "markdown",
   "id": "91d337ff",
   "metadata": {},
   "source": [
    "# BMI Calculator\n"
   ]
  },
  {
   "cell_type": "markdown",
   "id": "4a92a805",
   "metadata": {},
   "source": [
    "https://mercer-health.com/services/weight-management-center/bmi-calculator#:~:text=Body%20Mass%20Index%2C%20or%20BMI,inches%20x%20height%20in%20inches"
   ]
  },
  {
   "cell_type": "code",
   "execution_count": 19,
   "id": "6cff7c93",
   "metadata": {},
   "outputs": [
    {
     "name": "stdout",
     "output_type": "stream",
     "text": [
      "Please enter your weight :188\n",
      "Please enter your height: 60\n",
      "PLease enter your name chouna\n",
      "36.71222222222222\n",
      "chouna  You are severely obese\n"
     ]
    }
   ],
   "source": [
    "weight=int(input(\"Please enter your weight :\"))\n",
    "height=int(input(\"Please enter your height: \"))\n",
    "name=input(\"PLease enter your name \")\n",
    "BMI = (weight*703)/(height* height)\n",
    "print(BMI)\n",
    "if (BMI>0):\n",
    "    if(BMI<18.5):\n",
    "        print(name + \"You are Underweight\")\n",
    "    elif(BMI<=24.9):\n",
    "        print(name + \" your Weight is Normal\")\n",
    "    elif(BMI<=29.9):\n",
    "        print(name + \" You are Overweight\")\n",
    "    elif(BMI<=34.9):\n",
    "        print(name + \" You ar obese please watch your weight\")\n",
    "    elif(BMI<=39.9):\n",
    "        print(name + \"  You are severely obese\")\n",
    "    else :\n",
    "        print(name + \" You are Morbidly obese\")\n"
   ]
  },
  {
   "cell_type": "code",
   "execution_count": null,
   "id": "4cdaca01",
   "metadata": {},
   "outputs": [],
   "source": [
    "\n"
   ]
  }
 ],
 "metadata": {
  "kernelspec": {
   "display_name": "Python 3 (ipykernel)",
   "language": "python",
   "name": "python3"
  },
  "language_info": {
   "codemirror_mode": {
    "name": "ipython",
    "version": 3
   },
   "file_extension": ".py",
   "mimetype": "text/x-python",
   "name": "python",
   "nbconvert_exporter": "python",
   "pygments_lexer": "ipython3",
   "version": "3.11.5"
  }
 },
 "nbformat": 4,
 "nbformat_minor": 5
}
